{
  "nbformat": 4,
  "nbformat_minor": 0,
  "metadata": {
    "colab": {
      "name": "boston.ipynb",
      "provenance": [],
      "collapsed_sections": []
    },
    "kernelspec": {
      "name": "python3",
      "display_name": "Python 3"
    }
  },
  "cells": [
    {
      "cell_type": "code",
      "metadata": {
        "id": "4YGnOMS343ZP",
        "colab_type": "code",
        "colab": {}
      },
      "source": [
        "import numpy as np\n",
        "from sklearn import datasets\n",
        "wines = datasets.load_wine()\n",
        "#boston=datasets.load_boston() 따로 파일생성"
      ],
      "execution_count": 0,
      "outputs": []
    },
    {
      "cell_type": "code",
      "metadata": {
        "id": "h1HKgfzF78W4",
        "colab_type": "code",
        "outputId": "c584ebc0-abec-4dea-eb95-91f20b4bc41b",
        "colab": {
          "base_uri": "https://localhost:8080/",
          "height": 419
        }
      },
      "source": [
        "print(wines)"
      ],
      "execution_count": 2,
      "outputs": [
        {
          "output_type": "stream",
          "text": [
            "{'data': array([[1.423e+01, 1.710e+00, 2.430e+00, ..., 1.040e+00, 3.920e+00,\n",
            "        1.065e+03],\n",
            "       [1.320e+01, 1.780e+00, 2.140e+00, ..., 1.050e+00, 3.400e+00,\n",
            "        1.050e+03],\n",
            "       [1.316e+01, 2.360e+00, 2.670e+00, ..., 1.030e+00, 3.170e+00,\n",
            "        1.185e+03],\n",
            "       ...,\n",
            "       [1.327e+01, 4.280e+00, 2.260e+00, ..., 5.900e-01, 1.560e+00,\n",
            "        8.350e+02],\n",
            "       [1.317e+01, 2.590e+00, 2.370e+00, ..., 6.000e-01, 1.620e+00,\n",
            "        8.400e+02],\n",
            "       [1.413e+01, 4.100e+00, 2.740e+00, ..., 6.100e-01, 1.600e+00,\n",
            "        5.600e+02]]), 'target': array([0, 0, 0, 0, 0, 0, 0, 0, 0, 0, 0, 0, 0, 0, 0, 0, 0, 0, 0, 0, 0, 0,\n",
            "       0, 0, 0, 0, 0, 0, 0, 0, 0, 0, 0, 0, 0, 0, 0, 0, 0, 0, 0, 0, 0, 0,\n",
            "       0, 0, 0, 0, 0, 0, 0, 0, 0, 0, 0, 0, 0, 0, 0, 1, 1, 1, 1, 1, 1, 1,\n",
            "       1, 1, 1, 1, 1, 1, 1, 1, 1, 1, 1, 1, 1, 1, 1, 1, 1, 1, 1, 1, 1, 1,\n",
            "       1, 1, 1, 1, 1, 1, 1, 1, 1, 1, 1, 1, 1, 1, 1, 1, 1, 1, 1, 1, 1, 1,\n",
            "       1, 1, 1, 1, 1, 1, 1, 1, 1, 1, 1, 1, 1, 1, 1, 1, 1, 1, 1, 1, 2, 2,\n",
            "       2, 2, 2, 2, 2, 2, 2, 2, 2, 2, 2, 2, 2, 2, 2, 2, 2, 2, 2, 2, 2, 2,\n",
            "       2, 2, 2, 2, 2, 2, 2, 2, 2, 2, 2, 2, 2, 2, 2, 2, 2, 2, 2, 2, 2, 2,\n",
            "       2, 2]), 'target_names': array(['class_0', 'class_1', 'class_2'], dtype='<U7'), 'DESCR': '.. _wine_dataset:\\n\\nWine recognition dataset\\n------------------------\\n\\n**Data Set Characteristics:**\\n\\n    :Number of Instances: 178 (50 in each of three classes)\\n    :Number of Attributes: 13 numeric, predictive attributes and the class\\n    :Attribute Information:\\n \\t\\t- Alcohol\\n \\t\\t- Malic acid\\n \\t\\t- Ash\\n\\t\\t- Alcalinity of ash  \\n \\t\\t- Magnesium\\n\\t\\t- Total phenols\\n \\t\\t- Flavanoids\\n \\t\\t- Nonflavanoid phenols\\n \\t\\t- Proanthocyanins\\n\\t\\t- Color intensity\\n \\t\\t- Hue\\n \\t\\t- OD280/OD315 of diluted wines\\n \\t\\t- Proline\\n\\n    - class:\\n            - class_0\\n            - class_1\\n            - class_2\\n\\t\\t\\n    :Summary Statistics:\\n    \\n    ============================= ==== ===== ======= =====\\n                                   Min   Max   Mean     SD\\n    ============================= ==== ===== ======= =====\\n    Alcohol:                      11.0  14.8    13.0   0.8\\n    Malic Acid:                   0.74  5.80    2.34  1.12\\n    Ash:                          1.36  3.23    2.36  0.27\\n    Alcalinity of Ash:            10.6  30.0    19.5   3.3\\n    Magnesium:                    70.0 162.0    99.7  14.3\\n    Total Phenols:                0.98  3.88    2.29  0.63\\n    Flavanoids:                   0.34  5.08    2.03  1.00\\n    Nonflavanoid Phenols:         0.13  0.66    0.36  0.12\\n    Proanthocyanins:              0.41  3.58    1.59  0.57\\n    Colour Intensity:              1.3  13.0     5.1   2.3\\n    Hue:                          0.48  1.71    0.96  0.23\\n    OD280/OD315 of diluted wines: 1.27  4.00    2.61  0.71\\n    Proline:                       278  1680     746   315\\n    ============================= ==== ===== ======= =====\\n\\n    :Missing Attribute Values: None\\n    :Class Distribution: class_0 (59), class_1 (71), class_2 (48)\\n    :Creator: R.A. Fisher\\n    :Donor: Michael Marshall (MARSHALL%PLU@io.arc.nasa.gov)\\n    :Date: July, 1988\\n\\nThis is a copy of UCI ML Wine recognition datasets.\\nhttps://archive.ics.uci.edu/ml/machine-learning-databases/wine/wine.data\\n\\nThe data is the results of a chemical analysis of wines grown in the same\\nregion in Italy by three different cultivators. There are thirteen different\\nmeasurements taken for different constituents found in the three types of\\nwine.\\n\\nOriginal Owners: \\n\\nForina, M. et al, PARVUS - \\nAn Extendible Package for Data Exploration, Classification and Correlation. \\nInstitute of Pharmaceutical and Food Analysis and Technologies,\\nVia Brigata Salerno, 16147 Genoa, Italy.\\n\\nCitation:\\n\\nLichman, M. (2013). UCI Machine Learning Repository\\n[https://archive.ics.uci.edu/ml]. Irvine, CA: University of California,\\nSchool of Information and Computer Science. \\n\\n.. topic:: References\\n\\n  (1) S. Aeberhard, D. Coomans and O. de Vel, \\n  Comparison of Classifiers in High Dimensional Settings, \\n  Tech. Rep. no. 92-02, (1992), Dept. of Computer Science and Dept. of  \\n  Mathematics and Statistics, James Cook University of North Queensland. \\n  (Also submitted to Technometrics). \\n\\n  The data was used with many others for comparing various \\n  classifiers. The classes are separable, though only RDA \\n  has achieved 100% correct classification. \\n  (RDA : 100%, QDA 99.4%, LDA 98.9%, 1NN 96.1% (z-transformed data)) \\n  (All results using the leave-one-out technique) \\n\\n  (2) S. Aeberhard, D. Coomans and O. de Vel, \\n  \"THE CLASSIFICATION PERFORMANCE OF RDA\" \\n  Tech. Rep. no. 92-01, (1992), Dept. of Computer Science and Dept. of \\n  Mathematics and Statistics, James Cook University of North Queensland. \\n  (Also submitted to Journal of Chemometrics).\\n', 'feature_names': ['alcohol', 'malic_acid', 'ash', 'alcalinity_of_ash', 'magnesium', 'total_phenols', 'flavanoids', 'nonflavanoid_phenols', 'proanthocyanins', 'color_intensity', 'hue', 'od280/od315_of_diluted_wines', 'proline']}\n"
          ],
          "name": "stdout"
        }
      ]
    },
    {
      "cell_type": "code",
      "metadata": {
        "id": "a7uxsoX6-JpL",
        "colab_type": "code",
        "outputId": "6b4d72bc-3aa7-4123-a4d5-603462025967",
        "colab": {
          "base_uri": "https://localhost:8080/",
          "height": 35
        }
      },
      "source": [
        "wines.keys()"
      ],
      "execution_count": 3,
      "outputs": [
        {
          "output_type": "execute_result",
          "data": {
            "text/plain": [
              "dict_keys(['data', 'target', 'target_names', 'DESCR', 'feature_names'])"
            ]
          },
          "metadata": {
            "tags": []
          },
          "execution_count": 3
        }
      ]
    },
    {
      "cell_type": "code",
      "metadata": {
        "id": "PNN2VLD_-RRj",
        "colab_type": "code",
        "outputId": "047f35a9-9d66-4647-d02c-2052a19bf339",
        "colab": {
          "base_uri": "https://localhost:8080/",
          "height": 1000
        }
      },
      "source": [
        "print(wines['DESCR'])"
      ],
      "execution_count": 4,
      "outputs": [
        {
          "output_type": "stream",
          "text": [
            ".. _wine_dataset:\n",
            "\n",
            "Wine recognition dataset\n",
            "------------------------\n",
            "\n",
            "**Data Set Characteristics:**\n",
            "\n",
            "    :Number of Instances: 178 (50 in each of three classes)\n",
            "    :Number of Attributes: 13 numeric, predictive attributes and the class\n",
            "    :Attribute Information:\n",
            " \t\t- Alcohol\n",
            " \t\t- Malic acid\n",
            " \t\t- Ash\n",
            "\t\t- Alcalinity of ash  \n",
            " \t\t- Magnesium\n",
            "\t\t- Total phenols\n",
            " \t\t- Flavanoids\n",
            " \t\t- Nonflavanoid phenols\n",
            " \t\t- Proanthocyanins\n",
            "\t\t- Color intensity\n",
            " \t\t- Hue\n",
            " \t\t- OD280/OD315 of diluted wines\n",
            " \t\t- Proline\n",
            "\n",
            "    - class:\n",
            "            - class_0\n",
            "            - class_1\n",
            "            - class_2\n",
            "\t\t\n",
            "    :Summary Statistics:\n",
            "    \n",
            "    ============================= ==== ===== ======= =====\n",
            "                                   Min   Max   Mean     SD\n",
            "    ============================= ==== ===== ======= =====\n",
            "    Alcohol:                      11.0  14.8    13.0   0.8\n",
            "    Malic Acid:                   0.74  5.80    2.34  1.12\n",
            "    Ash:                          1.36  3.23    2.36  0.27\n",
            "    Alcalinity of Ash:            10.6  30.0    19.5   3.3\n",
            "    Magnesium:                    70.0 162.0    99.7  14.3\n",
            "    Total Phenols:                0.98  3.88    2.29  0.63\n",
            "    Flavanoids:                   0.34  5.08    2.03  1.00\n",
            "    Nonflavanoid Phenols:         0.13  0.66    0.36  0.12\n",
            "    Proanthocyanins:              0.41  3.58    1.59  0.57\n",
            "    Colour Intensity:              1.3  13.0     5.1   2.3\n",
            "    Hue:                          0.48  1.71    0.96  0.23\n",
            "    OD280/OD315 of diluted wines: 1.27  4.00    2.61  0.71\n",
            "    Proline:                       278  1680     746   315\n",
            "    ============================= ==== ===== ======= =====\n",
            "\n",
            "    :Missing Attribute Values: None\n",
            "    :Class Distribution: class_0 (59), class_1 (71), class_2 (48)\n",
            "    :Creator: R.A. Fisher\n",
            "    :Donor: Michael Marshall (MARSHALL%PLU@io.arc.nasa.gov)\n",
            "    :Date: July, 1988\n",
            "\n",
            "This is a copy of UCI ML Wine recognition datasets.\n",
            "https://archive.ics.uci.edu/ml/machine-learning-databases/wine/wine.data\n",
            "\n",
            "The data is the results of a chemical analysis of wines grown in the same\n",
            "region in Italy by three different cultivators. There are thirteen different\n",
            "measurements taken for different constituents found in the three types of\n",
            "wine.\n",
            "\n",
            "Original Owners: \n",
            "\n",
            "Forina, M. et al, PARVUS - \n",
            "An Extendible Package for Data Exploration, Classification and Correlation. \n",
            "Institute of Pharmaceutical and Food Analysis and Technologies,\n",
            "Via Brigata Salerno, 16147 Genoa, Italy.\n",
            "\n",
            "Citation:\n",
            "\n",
            "Lichman, M. (2013). UCI Machine Learning Repository\n",
            "[https://archive.ics.uci.edu/ml]. Irvine, CA: University of California,\n",
            "School of Information and Computer Science. \n",
            "\n",
            ".. topic:: References\n",
            "\n",
            "  (1) S. Aeberhard, D. Coomans and O. de Vel, \n",
            "  Comparison of Classifiers in High Dimensional Settings, \n",
            "  Tech. Rep. no. 92-02, (1992), Dept. of Computer Science and Dept. of  \n",
            "  Mathematics and Statistics, James Cook University of North Queensland. \n",
            "  (Also submitted to Technometrics). \n",
            "\n",
            "  The data was used with many others for comparing various \n",
            "  classifiers. The classes are separable, though only RDA \n",
            "  has achieved 100% correct classification. \n",
            "  (RDA : 100%, QDA 99.4%, LDA 98.9%, 1NN 96.1% (z-transformed data)) \n",
            "  (All results using the leave-one-out technique) \n",
            "\n",
            "  (2) S. Aeberhard, D. Coomans and O. de Vel, \n",
            "  \"THE CLASSIFICATION PERFORMANCE OF RDA\" \n",
            "  Tech. Rep. no. 92-01, (1992), Dept. of Computer Science and Dept. of \n",
            "  Mathematics and Statistics, James Cook University of North Queensland. \n",
            "  (Also submitted to Journal of Chemometrics).\n",
            "\n"
          ],
          "name": "stdout"
        }
      ]
    },
    {
      "cell_type": "code",
      "metadata": {
        "id": "5gdTBvmy-Wzk",
        "colab_type": "code",
        "outputId": "2e1bae93-802b-4531-89d2-47bd85234308",
        "colab": {
          "base_uri": "https://localhost:8080/",
          "height": 145
        }
      },
      "source": [
        "print(wines['data'])"
      ],
      "execution_count": 5,
      "outputs": [
        {
          "output_type": "stream",
          "text": [
            "[[1.423e+01 1.710e+00 2.430e+00 ... 1.040e+00 3.920e+00 1.065e+03]\n",
            " [1.320e+01 1.780e+00 2.140e+00 ... 1.050e+00 3.400e+00 1.050e+03]\n",
            " [1.316e+01 2.360e+00 2.670e+00 ... 1.030e+00 3.170e+00 1.185e+03]\n",
            " ...\n",
            " [1.327e+01 4.280e+00 2.260e+00 ... 5.900e-01 1.560e+00 8.350e+02]\n",
            " [1.317e+01 2.590e+00 2.370e+00 ... 6.000e-01 1.620e+00 8.400e+02]\n",
            " [1.413e+01 4.100e+00 2.740e+00 ... 6.100e-01 1.600e+00 5.600e+02]]\n"
          ],
          "name": "stdout"
        }
      ]
    },
    {
      "cell_type": "code",
      "metadata": {
        "id": "DjvI63XB_H0B",
        "colab_type": "code",
        "outputId": "0f4b4f61-5ac7-429b-e9a2-171db8607079",
        "colab": {
          "base_uri": "https://localhost:8080/",
          "height": 35
        }
      },
      "source": [
        "wines['data'].shape"
      ],
      "execution_count": 6,
      "outputs": [
        {
          "output_type": "execute_result",
          "data": {
            "text/plain": [
              "(178, 13)"
            ]
          },
          "metadata": {
            "tags": []
          },
          "execution_count": 6
        }
      ]
    },
    {
      "cell_type": "code",
      "metadata": {
        "id": "ohcLZ5tw_SAb",
        "colab_type": "code",
        "outputId": "7bc16fb9-e985-4b5c-ad6a-de4ab5ce6320",
        "colab": {
          "base_uri": "https://localhost:8080/",
          "height": 126
        }
      },
      "source": [
        "print(wines['target_names'])\n",
        "print(wines['target'])"
      ],
      "execution_count": 7,
      "outputs": [
        {
          "output_type": "stream",
          "text": [
            "['class_0' 'class_1' 'class_2']\n",
            "[0 0 0 0 0 0 0 0 0 0 0 0 0 0 0 0 0 0 0 0 0 0 0 0 0 0 0 0 0 0 0 0 0 0 0 0 0\n",
            " 0 0 0 0 0 0 0 0 0 0 0 0 0 0 0 0 0 0 0 0 0 0 1 1 1 1 1 1 1 1 1 1 1 1 1 1 1\n",
            " 1 1 1 1 1 1 1 1 1 1 1 1 1 1 1 1 1 1 1 1 1 1 1 1 1 1 1 1 1 1 1 1 1 1 1 1 1\n",
            " 1 1 1 1 1 1 1 1 1 1 1 1 1 1 1 1 1 1 1 2 2 2 2 2 2 2 2 2 2 2 2 2 2 2 2 2 2\n",
            " 2 2 2 2 2 2 2 2 2 2 2 2 2 2 2 2 2 2 2 2 2 2 2 2 2 2 2 2 2 2]\n"
          ],
          "name": "stdout"
        }
      ]
    },
    {
      "cell_type": "code",
      "metadata": {
        "id": "nAjFt8Uf_jA3",
        "colab_type": "code",
        "outputId": "287e4cab-2c4c-4d49-aa32-ae6757c30b75",
        "colab": {
          "base_uri": "https://localhost:8080/",
          "height": 35
        }
      },
      "source": [
        "print(wines['feature_names'])"
      ],
      "execution_count": 8,
      "outputs": [
        {
          "output_type": "stream",
          "text": [
            "['alcohol', 'malic_acid', 'ash', 'alcalinity_of_ash', 'magnesium', 'total_phenols', 'flavanoids', 'nonflavanoid_phenols', 'proanthocyanins', 'color_intensity', 'hue', 'od280/od315_of_diluted_wines', 'proline']\n"
          ],
          "name": "stdout"
        }
      ]
    },
    {
      "cell_type": "code",
      "metadata": {
        "id": "6YO708KgbEmO",
        "colab_type": "code",
        "colab": {
          "base_uri": "https://localhost:8080/",
          "height": 35
        },
        "outputId": "4bfad669-794a-4cc5-a3a9-89c598d7c4f2"
      },
      "source": [
        "len(wines['feature_names'])"
      ],
      "execution_count": 9,
      "outputs": [
        {
          "output_type": "execute_result",
          "data": {
            "text/plain": [
              "13"
            ]
          },
          "metadata": {
            "tags": []
          },
          "execution_count": 9
        }
      ]
    },
    {
      "cell_type": "markdown",
      "metadata": {
        "id": "tBr-MD8CALJr",
        "colab_type": "text"
      },
      "source": [
        "와인 인식 데이터셋\n",
        "\n",
        "-178개의 data\n",
        "\n",
        "-13개의 분류 label(column)\n",
        "\n",
        "Alcohol\n",
        " \t\t\n",
        "Malic acid\n",
        "\n",
        "Ash\n",
        "\n",
        "Alcalinity of ash  \n",
        "\n",
        "Magnesium\n",
        "\n",
        "Total phenols\n",
        "\n",
        "Flavanoids\n",
        "\n",
        "Nonflavanoid phenols\n",
        "\n",
        "Proanthocyanins\n",
        "\n",
        "Color intensity\n",
        "\n",
        "Hue\n",
        "\n",
        "OD280/OD315 of diluted wines\n",
        "\n",
        "Proline 아미노산?\n",
        "\n",
        "\n",
        "-target을 class0,1,2로 분류\n",
        "\n"
      ]
    },
    {
      "cell_type": "code",
      "metadata": {
        "id": "-0KpOuSxBxQ9",
        "colab_type": "code",
        "outputId": "2c64d211-be90-42f3-9f46-0f6d8f434353",
        "colab": {
          "base_uri": "https://localhost:8080/",
          "height": 35
        }
      },
      "source": [
        "wines['target'].shape"
      ],
      "execution_count": 10,
      "outputs": [
        {
          "output_type": "execute_result",
          "data": {
            "text/plain": [
              "(178,)"
            ]
          },
          "metadata": {
            "tags": []
          },
          "execution_count": 10
        }
      ]
    },
    {
      "cell_type": "code",
      "metadata": {
        "id": "dNlezVB2B1YR",
        "colab_type": "code",
        "colab": {}
      },
      "source": [
        "#각 dataset대표값 구하기\n",
        "#(0,1,2로 분류된 와인data의 13개가지 특성의 대표값 구하기?)\n",
        "data=wines['data']\n",
        "classi=wines['target']"
      ],
      "execution_count": 0,
      "outputs": []
    },
    {
      "cell_type": "code",
      "metadata": {
        "id": "HBXbHh0CC3Tj",
        "colab_type": "code",
        "outputId": "0b1bf99f-76de-4b4d-dab1-59d010c966bf",
        "colab": {
          "base_uri": "https://localhost:8080/",
          "height": 35
        }
      },
      "source": [
        "type(data), type(classi)"
      ],
      "execution_count": 12,
      "outputs": [
        {
          "output_type": "execute_result",
          "data": {
            "text/plain": [
              "(numpy.ndarray, numpy.ndarray)"
            ]
          },
          "metadata": {
            "tags": []
          },
          "execution_count": 12
        }
      ]
    },
    {
      "cell_type": "code",
      "metadata": {
        "id": "7H2Axuc_a8mt",
        "colab_type": "code",
        "colab": {}
      },
      "source": [
        ""
      ],
      "execution_count": 0,
      "outputs": []
    },
    {
      "cell_type": "code",
      "metadata": {
        "id": "Vk5i4mjJC55e",
        "colab_type": "code",
        "colab": {}
      },
      "source": [
        "#클래스별 분류\n",
        "att = wines['feature_names']\n",
        "cla0=data[classi==0]\n",
        "cla1=data[classi==1]\n",
        "cla2=data[classi==2]"
      ],
      "execution_count": 0,
      "outputs": []
    },
    {
      "cell_type": "code",
      "metadata": {
        "id": "d8o7FRhqDE4r",
        "colab_type": "code",
        "outputId": "bde7555a-0e76-4d16-e0e9-78a717a7d5b0",
        "colab": {
          "base_uri": "https://localhost:8080/",
          "height": 1000
        }
      },
      "source": [
        "len(data),len(cla0), cla0"
      ],
      "execution_count": 14,
      "outputs": [
        {
          "output_type": "execute_result",
          "data": {
            "text/plain": [
              "(178,\n",
              " 59,\n",
              " array([[1.423e+01, 1.710e+00, 2.430e+00, 1.560e+01, 1.270e+02, 2.800e+00,\n",
              "         3.060e+00, 2.800e-01, 2.290e+00, 5.640e+00, 1.040e+00, 3.920e+00,\n",
              "         1.065e+03],\n",
              "        [1.320e+01, 1.780e+00, 2.140e+00, 1.120e+01, 1.000e+02, 2.650e+00,\n",
              "         2.760e+00, 2.600e-01, 1.280e+00, 4.380e+00, 1.050e+00, 3.400e+00,\n",
              "         1.050e+03],\n",
              "        [1.316e+01, 2.360e+00, 2.670e+00, 1.860e+01, 1.010e+02, 2.800e+00,\n",
              "         3.240e+00, 3.000e-01, 2.810e+00, 5.680e+00, 1.030e+00, 3.170e+00,\n",
              "         1.185e+03],\n",
              "        [1.437e+01, 1.950e+00, 2.500e+00, 1.680e+01, 1.130e+02, 3.850e+00,\n",
              "         3.490e+00, 2.400e-01, 2.180e+00, 7.800e+00, 8.600e-01, 3.450e+00,\n",
              "         1.480e+03],\n",
              "        [1.324e+01, 2.590e+00, 2.870e+00, 2.100e+01, 1.180e+02, 2.800e+00,\n",
              "         2.690e+00, 3.900e-01, 1.820e+00, 4.320e+00, 1.040e+00, 2.930e+00,\n",
              "         7.350e+02],\n",
              "        [1.420e+01, 1.760e+00, 2.450e+00, 1.520e+01, 1.120e+02, 3.270e+00,\n",
              "         3.390e+00, 3.400e-01, 1.970e+00, 6.750e+00, 1.050e+00, 2.850e+00,\n",
              "         1.450e+03],\n",
              "        [1.439e+01, 1.870e+00, 2.450e+00, 1.460e+01, 9.600e+01, 2.500e+00,\n",
              "         2.520e+00, 3.000e-01, 1.980e+00, 5.250e+00, 1.020e+00, 3.580e+00,\n",
              "         1.290e+03],\n",
              "        [1.406e+01, 2.150e+00, 2.610e+00, 1.760e+01, 1.210e+02, 2.600e+00,\n",
              "         2.510e+00, 3.100e-01, 1.250e+00, 5.050e+00, 1.060e+00, 3.580e+00,\n",
              "         1.295e+03],\n",
              "        [1.483e+01, 1.640e+00, 2.170e+00, 1.400e+01, 9.700e+01, 2.800e+00,\n",
              "         2.980e+00, 2.900e-01, 1.980e+00, 5.200e+00, 1.080e+00, 2.850e+00,\n",
              "         1.045e+03],\n",
              "        [1.386e+01, 1.350e+00, 2.270e+00, 1.600e+01, 9.800e+01, 2.980e+00,\n",
              "         3.150e+00, 2.200e-01, 1.850e+00, 7.220e+00, 1.010e+00, 3.550e+00,\n",
              "         1.045e+03],\n",
              "        [1.410e+01, 2.160e+00, 2.300e+00, 1.800e+01, 1.050e+02, 2.950e+00,\n",
              "         3.320e+00, 2.200e-01, 2.380e+00, 5.750e+00, 1.250e+00, 3.170e+00,\n",
              "         1.510e+03],\n",
              "        [1.412e+01, 1.480e+00, 2.320e+00, 1.680e+01, 9.500e+01, 2.200e+00,\n",
              "         2.430e+00, 2.600e-01, 1.570e+00, 5.000e+00, 1.170e+00, 2.820e+00,\n",
              "         1.280e+03],\n",
              "        [1.375e+01, 1.730e+00, 2.410e+00, 1.600e+01, 8.900e+01, 2.600e+00,\n",
              "         2.760e+00, 2.900e-01, 1.810e+00, 5.600e+00, 1.150e+00, 2.900e+00,\n",
              "         1.320e+03],\n",
              "        [1.475e+01, 1.730e+00, 2.390e+00, 1.140e+01, 9.100e+01, 3.100e+00,\n",
              "         3.690e+00, 4.300e-01, 2.810e+00, 5.400e+00, 1.250e+00, 2.730e+00,\n",
              "         1.150e+03],\n",
              "        [1.438e+01, 1.870e+00, 2.380e+00, 1.200e+01, 1.020e+02, 3.300e+00,\n",
              "         3.640e+00, 2.900e-01, 2.960e+00, 7.500e+00, 1.200e+00, 3.000e+00,\n",
              "         1.547e+03],\n",
              "        [1.363e+01, 1.810e+00, 2.700e+00, 1.720e+01, 1.120e+02, 2.850e+00,\n",
              "         2.910e+00, 3.000e-01, 1.460e+00, 7.300e+00, 1.280e+00, 2.880e+00,\n",
              "         1.310e+03],\n",
              "        [1.430e+01, 1.920e+00, 2.720e+00, 2.000e+01, 1.200e+02, 2.800e+00,\n",
              "         3.140e+00, 3.300e-01, 1.970e+00, 6.200e+00, 1.070e+00, 2.650e+00,\n",
              "         1.280e+03],\n",
              "        [1.383e+01, 1.570e+00, 2.620e+00, 2.000e+01, 1.150e+02, 2.950e+00,\n",
              "         3.400e+00, 4.000e-01, 1.720e+00, 6.600e+00, 1.130e+00, 2.570e+00,\n",
              "         1.130e+03],\n",
              "        [1.419e+01, 1.590e+00, 2.480e+00, 1.650e+01, 1.080e+02, 3.300e+00,\n",
              "         3.930e+00, 3.200e-01, 1.860e+00, 8.700e+00, 1.230e+00, 2.820e+00,\n",
              "         1.680e+03],\n",
              "        [1.364e+01, 3.100e+00, 2.560e+00, 1.520e+01, 1.160e+02, 2.700e+00,\n",
              "         3.030e+00, 1.700e-01, 1.660e+00, 5.100e+00, 9.600e-01, 3.360e+00,\n",
              "         8.450e+02],\n",
              "        [1.406e+01, 1.630e+00, 2.280e+00, 1.600e+01, 1.260e+02, 3.000e+00,\n",
              "         3.170e+00, 2.400e-01, 2.100e+00, 5.650e+00, 1.090e+00, 3.710e+00,\n",
              "         7.800e+02],\n",
              "        [1.293e+01, 3.800e+00, 2.650e+00, 1.860e+01, 1.020e+02, 2.410e+00,\n",
              "         2.410e+00, 2.500e-01, 1.980e+00, 4.500e+00, 1.030e+00, 3.520e+00,\n",
              "         7.700e+02],\n",
              "        [1.371e+01, 1.860e+00, 2.360e+00, 1.660e+01, 1.010e+02, 2.610e+00,\n",
              "         2.880e+00, 2.700e-01, 1.690e+00, 3.800e+00, 1.110e+00, 4.000e+00,\n",
              "         1.035e+03],\n",
              "        [1.285e+01, 1.600e+00, 2.520e+00, 1.780e+01, 9.500e+01, 2.480e+00,\n",
              "         2.370e+00, 2.600e-01, 1.460e+00, 3.930e+00, 1.090e+00, 3.630e+00,\n",
              "         1.015e+03],\n",
              "        [1.350e+01, 1.810e+00, 2.610e+00, 2.000e+01, 9.600e+01, 2.530e+00,\n",
              "         2.610e+00, 2.800e-01, 1.660e+00, 3.520e+00, 1.120e+00, 3.820e+00,\n",
              "         8.450e+02],\n",
              "        [1.305e+01, 2.050e+00, 3.220e+00, 2.500e+01, 1.240e+02, 2.630e+00,\n",
              "         2.680e+00, 4.700e-01, 1.920e+00, 3.580e+00, 1.130e+00, 3.200e+00,\n",
              "         8.300e+02],\n",
              "        [1.339e+01, 1.770e+00, 2.620e+00, 1.610e+01, 9.300e+01, 2.850e+00,\n",
              "         2.940e+00, 3.400e-01, 1.450e+00, 4.800e+00, 9.200e-01, 3.220e+00,\n",
              "         1.195e+03],\n",
              "        [1.330e+01, 1.720e+00, 2.140e+00, 1.700e+01, 9.400e+01, 2.400e+00,\n",
              "         2.190e+00, 2.700e-01, 1.350e+00, 3.950e+00, 1.020e+00, 2.770e+00,\n",
              "         1.285e+03],\n",
              "        [1.387e+01, 1.900e+00, 2.800e+00, 1.940e+01, 1.070e+02, 2.950e+00,\n",
              "         2.970e+00, 3.700e-01, 1.760e+00, 4.500e+00, 1.250e+00, 3.400e+00,\n",
              "         9.150e+02],\n",
              "        [1.402e+01, 1.680e+00, 2.210e+00, 1.600e+01, 9.600e+01, 2.650e+00,\n",
              "         2.330e+00, 2.600e-01, 1.980e+00, 4.700e+00, 1.040e+00, 3.590e+00,\n",
              "         1.035e+03],\n",
              "        [1.373e+01, 1.500e+00, 2.700e+00, 2.250e+01, 1.010e+02, 3.000e+00,\n",
              "         3.250e+00, 2.900e-01, 2.380e+00, 5.700e+00, 1.190e+00, 2.710e+00,\n",
              "         1.285e+03],\n",
              "        [1.358e+01, 1.660e+00, 2.360e+00, 1.910e+01, 1.060e+02, 2.860e+00,\n",
              "         3.190e+00, 2.200e-01, 1.950e+00, 6.900e+00, 1.090e+00, 2.880e+00,\n",
              "         1.515e+03],\n",
              "        [1.368e+01, 1.830e+00, 2.360e+00, 1.720e+01, 1.040e+02, 2.420e+00,\n",
              "         2.690e+00, 4.200e-01, 1.970e+00, 3.840e+00, 1.230e+00, 2.870e+00,\n",
              "         9.900e+02],\n",
              "        [1.376e+01, 1.530e+00, 2.700e+00, 1.950e+01, 1.320e+02, 2.950e+00,\n",
              "         2.740e+00, 5.000e-01, 1.350e+00, 5.400e+00, 1.250e+00, 3.000e+00,\n",
              "         1.235e+03],\n",
              "        [1.351e+01, 1.800e+00, 2.650e+00, 1.900e+01, 1.100e+02, 2.350e+00,\n",
              "         2.530e+00, 2.900e-01, 1.540e+00, 4.200e+00, 1.100e+00, 2.870e+00,\n",
              "         1.095e+03],\n",
              "        [1.348e+01, 1.810e+00, 2.410e+00, 2.050e+01, 1.000e+02, 2.700e+00,\n",
              "         2.980e+00, 2.600e-01, 1.860e+00, 5.100e+00, 1.040e+00, 3.470e+00,\n",
              "         9.200e+02],\n",
              "        [1.328e+01, 1.640e+00, 2.840e+00, 1.550e+01, 1.100e+02, 2.600e+00,\n",
              "         2.680e+00, 3.400e-01, 1.360e+00, 4.600e+00, 1.090e+00, 2.780e+00,\n",
              "         8.800e+02],\n",
              "        [1.305e+01, 1.650e+00, 2.550e+00, 1.800e+01, 9.800e+01, 2.450e+00,\n",
              "         2.430e+00, 2.900e-01, 1.440e+00, 4.250e+00, 1.120e+00, 2.510e+00,\n",
              "         1.105e+03],\n",
              "        [1.307e+01, 1.500e+00, 2.100e+00, 1.550e+01, 9.800e+01, 2.400e+00,\n",
              "         2.640e+00, 2.800e-01, 1.370e+00, 3.700e+00, 1.180e+00, 2.690e+00,\n",
              "         1.020e+03],\n",
              "        [1.422e+01, 3.990e+00, 2.510e+00, 1.320e+01, 1.280e+02, 3.000e+00,\n",
              "         3.040e+00, 2.000e-01, 2.080e+00, 5.100e+00, 8.900e-01, 3.530e+00,\n",
              "         7.600e+02],\n",
              "        [1.356e+01, 1.710e+00, 2.310e+00, 1.620e+01, 1.170e+02, 3.150e+00,\n",
              "         3.290e+00, 3.400e-01, 2.340e+00, 6.130e+00, 9.500e-01, 3.380e+00,\n",
              "         7.950e+02],\n",
              "        [1.341e+01, 3.840e+00, 2.120e+00, 1.880e+01, 9.000e+01, 2.450e+00,\n",
              "         2.680e+00, 2.700e-01, 1.480e+00, 4.280e+00, 9.100e-01, 3.000e+00,\n",
              "         1.035e+03],\n",
              "        [1.388e+01, 1.890e+00, 2.590e+00, 1.500e+01, 1.010e+02, 3.250e+00,\n",
              "         3.560e+00, 1.700e-01, 1.700e+00, 5.430e+00, 8.800e-01, 3.560e+00,\n",
              "         1.095e+03],\n",
              "        [1.324e+01, 3.980e+00, 2.290e+00, 1.750e+01, 1.030e+02, 2.640e+00,\n",
              "         2.630e+00, 3.200e-01, 1.660e+00, 4.360e+00, 8.200e-01, 3.000e+00,\n",
              "         6.800e+02],\n",
              "        [1.305e+01, 1.770e+00, 2.100e+00, 1.700e+01, 1.070e+02, 3.000e+00,\n",
              "         3.000e+00, 2.800e-01, 2.030e+00, 5.040e+00, 8.800e-01, 3.350e+00,\n",
              "         8.850e+02],\n",
              "        [1.421e+01, 4.040e+00, 2.440e+00, 1.890e+01, 1.110e+02, 2.850e+00,\n",
              "         2.650e+00, 3.000e-01, 1.250e+00, 5.240e+00, 8.700e-01, 3.330e+00,\n",
              "         1.080e+03],\n",
              "        [1.438e+01, 3.590e+00, 2.280e+00, 1.600e+01, 1.020e+02, 3.250e+00,\n",
              "         3.170e+00, 2.700e-01, 2.190e+00, 4.900e+00, 1.040e+00, 3.440e+00,\n",
              "         1.065e+03],\n",
              "        [1.390e+01, 1.680e+00, 2.120e+00, 1.600e+01, 1.010e+02, 3.100e+00,\n",
              "         3.390e+00, 2.100e-01, 2.140e+00, 6.100e+00, 9.100e-01, 3.330e+00,\n",
              "         9.850e+02],\n",
              "        [1.410e+01, 2.020e+00, 2.400e+00, 1.880e+01, 1.030e+02, 2.750e+00,\n",
              "         2.920e+00, 3.200e-01, 2.380e+00, 6.200e+00, 1.070e+00, 2.750e+00,\n",
              "         1.060e+03],\n",
              "        [1.394e+01, 1.730e+00, 2.270e+00, 1.740e+01, 1.080e+02, 2.880e+00,\n",
              "         3.540e+00, 3.200e-01, 2.080e+00, 8.900e+00, 1.120e+00, 3.100e+00,\n",
              "         1.260e+03],\n",
              "        [1.305e+01, 1.730e+00, 2.040e+00, 1.240e+01, 9.200e+01, 2.720e+00,\n",
              "         3.270e+00, 1.700e-01, 2.910e+00, 7.200e+00, 1.120e+00, 2.910e+00,\n",
              "         1.150e+03],\n",
              "        [1.383e+01, 1.650e+00, 2.600e+00, 1.720e+01, 9.400e+01, 2.450e+00,\n",
              "         2.990e+00, 2.200e-01, 2.290e+00, 5.600e+00, 1.240e+00, 3.370e+00,\n",
              "         1.265e+03],\n",
              "        [1.382e+01, 1.750e+00, 2.420e+00, 1.400e+01, 1.110e+02, 3.880e+00,\n",
              "         3.740e+00, 3.200e-01, 1.870e+00, 7.050e+00, 1.010e+00, 3.260e+00,\n",
              "         1.190e+03],\n",
              "        [1.377e+01, 1.900e+00, 2.680e+00, 1.710e+01, 1.150e+02, 3.000e+00,\n",
              "         2.790e+00, 3.900e-01, 1.680e+00, 6.300e+00, 1.130e+00, 2.930e+00,\n",
              "         1.375e+03],\n",
              "        [1.374e+01, 1.670e+00, 2.250e+00, 1.640e+01, 1.180e+02, 2.600e+00,\n",
              "         2.900e+00, 2.100e-01, 1.620e+00, 5.850e+00, 9.200e-01, 3.200e+00,\n",
              "         1.060e+03],\n",
              "        [1.356e+01, 1.730e+00, 2.460e+00, 2.050e+01, 1.160e+02, 2.960e+00,\n",
              "         2.780e+00, 2.000e-01, 2.450e+00, 6.250e+00, 9.800e-01, 3.030e+00,\n",
              "         1.120e+03],\n",
              "        [1.422e+01, 1.700e+00, 2.300e+00, 1.630e+01, 1.180e+02, 3.200e+00,\n",
              "         3.000e+00, 2.600e-01, 2.030e+00, 6.380e+00, 9.400e-01, 3.310e+00,\n",
              "         9.700e+02],\n",
              "        [1.329e+01, 1.970e+00, 2.680e+00, 1.680e+01, 1.020e+02, 3.000e+00,\n",
              "         3.230e+00, 3.100e-01, 1.660e+00, 6.000e+00, 1.070e+00, 2.840e+00,\n",
              "         1.270e+03],\n",
              "        [1.372e+01, 1.430e+00, 2.500e+00, 1.670e+01, 1.080e+02, 3.400e+00,\n",
              "         3.670e+00, 1.900e-01, 2.040e+00, 6.800e+00, 8.900e-01, 2.870e+00,\n",
              "         1.285e+03]]))"
            ]
          },
          "metadata": {
            "tags": []
          },
          "execution_count": 14
        }
      ]
    },
    {
      "cell_type": "code",
      "metadata": {
        "id": "k8SbSuSRDInB",
        "colab_type": "code",
        "outputId": "4b0ee0b0-3936-4f60-a4f1-0c10bfbb418b",
        "colab": {
          "base_uri": "https://localhost:8080/",
          "height": 54
        }
      },
      "source": [
        "print(cla0[0])"
      ],
      "execution_count": 15,
      "outputs": [
        {
          "output_type": "stream",
          "text": [
            "[1.423e+01 1.710e+00 2.430e+00 1.560e+01 1.270e+02 2.800e+00 3.060e+00\n",
            " 2.800e-01 2.290e+00 5.640e+00 1.040e+00 3.920e+00 1.065e+03]\n"
          ],
          "name": "stdout"
        }
      ]
    },
    {
      "cell_type": "code",
      "metadata": {
        "id": "4sdaGz-rb1nt",
        "colab_type": "code",
        "colab": {
          "base_uri": "https://localhost:8080/",
          "height": 1000
        },
        "outputId": "8e1eb6d3-8197-410b-e736-091dceed65e2"
      },
      "source": [
        "print(cla0), cla0.ndim"
      ],
      "execution_count": 16,
      "outputs": [
        {
          "output_type": "stream",
          "text": [
            "[[1.423e+01 1.710e+00 2.430e+00 1.560e+01 1.270e+02 2.800e+00 3.060e+00\n",
            "  2.800e-01 2.290e+00 5.640e+00 1.040e+00 3.920e+00 1.065e+03]\n",
            " [1.320e+01 1.780e+00 2.140e+00 1.120e+01 1.000e+02 2.650e+00 2.760e+00\n",
            "  2.600e-01 1.280e+00 4.380e+00 1.050e+00 3.400e+00 1.050e+03]\n",
            " [1.316e+01 2.360e+00 2.670e+00 1.860e+01 1.010e+02 2.800e+00 3.240e+00\n",
            "  3.000e-01 2.810e+00 5.680e+00 1.030e+00 3.170e+00 1.185e+03]\n",
            " [1.437e+01 1.950e+00 2.500e+00 1.680e+01 1.130e+02 3.850e+00 3.490e+00\n",
            "  2.400e-01 2.180e+00 7.800e+00 8.600e-01 3.450e+00 1.480e+03]\n",
            " [1.324e+01 2.590e+00 2.870e+00 2.100e+01 1.180e+02 2.800e+00 2.690e+00\n",
            "  3.900e-01 1.820e+00 4.320e+00 1.040e+00 2.930e+00 7.350e+02]\n",
            " [1.420e+01 1.760e+00 2.450e+00 1.520e+01 1.120e+02 3.270e+00 3.390e+00\n",
            "  3.400e-01 1.970e+00 6.750e+00 1.050e+00 2.850e+00 1.450e+03]\n",
            " [1.439e+01 1.870e+00 2.450e+00 1.460e+01 9.600e+01 2.500e+00 2.520e+00\n",
            "  3.000e-01 1.980e+00 5.250e+00 1.020e+00 3.580e+00 1.290e+03]\n",
            " [1.406e+01 2.150e+00 2.610e+00 1.760e+01 1.210e+02 2.600e+00 2.510e+00\n",
            "  3.100e-01 1.250e+00 5.050e+00 1.060e+00 3.580e+00 1.295e+03]\n",
            " [1.483e+01 1.640e+00 2.170e+00 1.400e+01 9.700e+01 2.800e+00 2.980e+00\n",
            "  2.900e-01 1.980e+00 5.200e+00 1.080e+00 2.850e+00 1.045e+03]\n",
            " [1.386e+01 1.350e+00 2.270e+00 1.600e+01 9.800e+01 2.980e+00 3.150e+00\n",
            "  2.200e-01 1.850e+00 7.220e+00 1.010e+00 3.550e+00 1.045e+03]\n",
            " [1.410e+01 2.160e+00 2.300e+00 1.800e+01 1.050e+02 2.950e+00 3.320e+00\n",
            "  2.200e-01 2.380e+00 5.750e+00 1.250e+00 3.170e+00 1.510e+03]\n",
            " [1.412e+01 1.480e+00 2.320e+00 1.680e+01 9.500e+01 2.200e+00 2.430e+00\n",
            "  2.600e-01 1.570e+00 5.000e+00 1.170e+00 2.820e+00 1.280e+03]\n",
            " [1.375e+01 1.730e+00 2.410e+00 1.600e+01 8.900e+01 2.600e+00 2.760e+00\n",
            "  2.900e-01 1.810e+00 5.600e+00 1.150e+00 2.900e+00 1.320e+03]\n",
            " [1.475e+01 1.730e+00 2.390e+00 1.140e+01 9.100e+01 3.100e+00 3.690e+00\n",
            "  4.300e-01 2.810e+00 5.400e+00 1.250e+00 2.730e+00 1.150e+03]\n",
            " [1.438e+01 1.870e+00 2.380e+00 1.200e+01 1.020e+02 3.300e+00 3.640e+00\n",
            "  2.900e-01 2.960e+00 7.500e+00 1.200e+00 3.000e+00 1.547e+03]\n",
            " [1.363e+01 1.810e+00 2.700e+00 1.720e+01 1.120e+02 2.850e+00 2.910e+00\n",
            "  3.000e-01 1.460e+00 7.300e+00 1.280e+00 2.880e+00 1.310e+03]\n",
            " [1.430e+01 1.920e+00 2.720e+00 2.000e+01 1.200e+02 2.800e+00 3.140e+00\n",
            "  3.300e-01 1.970e+00 6.200e+00 1.070e+00 2.650e+00 1.280e+03]\n",
            " [1.383e+01 1.570e+00 2.620e+00 2.000e+01 1.150e+02 2.950e+00 3.400e+00\n",
            "  4.000e-01 1.720e+00 6.600e+00 1.130e+00 2.570e+00 1.130e+03]\n",
            " [1.419e+01 1.590e+00 2.480e+00 1.650e+01 1.080e+02 3.300e+00 3.930e+00\n",
            "  3.200e-01 1.860e+00 8.700e+00 1.230e+00 2.820e+00 1.680e+03]\n",
            " [1.364e+01 3.100e+00 2.560e+00 1.520e+01 1.160e+02 2.700e+00 3.030e+00\n",
            "  1.700e-01 1.660e+00 5.100e+00 9.600e-01 3.360e+00 8.450e+02]\n",
            " [1.406e+01 1.630e+00 2.280e+00 1.600e+01 1.260e+02 3.000e+00 3.170e+00\n",
            "  2.400e-01 2.100e+00 5.650e+00 1.090e+00 3.710e+00 7.800e+02]\n",
            " [1.293e+01 3.800e+00 2.650e+00 1.860e+01 1.020e+02 2.410e+00 2.410e+00\n",
            "  2.500e-01 1.980e+00 4.500e+00 1.030e+00 3.520e+00 7.700e+02]\n",
            " [1.371e+01 1.860e+00 2.360e+00 1.660e+01 1.010e+02 2.610e+00 2.880e+00\n",
            "  2.700e-01 1.690e+00 3.800e+00 1.110e+00 4.000e+00 1.035e+03]\n",
            " [1.285e+01 1.600e+00 2.520e+00 1.780e+01 9.500e+01 2.480e+00 2.370e+00\n",
            "  2.600e-01 1.460e+00 3.930e+00 1.090e+00 3.630e+00 1.015e+03]\n",
            " [1.350e+01 1.810e+00 2.610e+00 2.000e+01 9.600e+01 2.530e+00 2.610e+00\n",
            "  2.800e-01 1.660e+00 3.520e+00 1.120e+00 3.820e+00 8.450e+02]\n",
            " [1.305e+01 2.050e+00 3.220e+00 2.500e+01 1.240e+02 2.630e+00 2.680e+00\n",
            "  4.700e-01 1.920e+00 3.580e+00 1.130e+00 3.200e+00 8.300e+02]\n",
            " [1.339e+01 1.770e+00 2.620e+00 1.610e+01 9.300e+01 2.850e+00 2.940e+00\n",
            "  3.400e-01 1.450e+00 4.800e+00 9.200e-01 3.220e+00 1.195e+03]\n",
            " [1.330e+01 1.720e+00 2.140e+00 1.700e+01 9.400e+01 2.400e+00 2.190e+00\n",
            "  2.700e-01 1.350e+00 3.950e+00 1.020e+00 2.770e+00 1.285e+03]\n",
            " [1.387e+01 1.900e+00 2.800e+00 1.940e+01 1.070e+02 2.950e+00 2.970e+00\n",
            "  3.700e-01 1.760e+00 4.500e+00 1.250e+00 3.400e+00 9.150e+02]\n",
            " [1.402e+01 1.680e+00 2.210e+00 1.600e+01 9.600e+01 2.650e+00 2.330e+00\n",
            "  2.600e-01 1.980e+00 4.700e+00 1.040e+00 3.590e+00 1.035e+03]\n",
            " [1.373e+01 1.500e+00 2.700e+00 2.250e+01 1.010e+02 3.000e+00 3.250e+00\n",
            "  2.900e-01 2.380e+00 5.700e+00 1.190e+00 2.710e+00 1.285e+03]\n",
            " [1.358e+01 1.660e+00 2.360e+00 1.910e+01 1.060e+02 2.860e+00 3.190e+00\n",
            "  2.200e-01 1.950e+00 6.900e+00 1.090e+00 2.880e+00 1.515e+03]\n",
            " [1.368e+01 1.830e+00 2.360e+00 1.720e+01 1.040e+02 2.420e+00 2.690e+00\n",
            "  4.200e-01 1.970e+00 3.840e+00 1.230e+00 2.870e+00 9.900e+02]\n",
            " [1.376e+01 1.530e+00 2.700e+00 1.950e+01 1.320e+02 2.950e+00 2.740e+00\n",
            "  5.000e-01 1.350e+00 5.400e+00 1.250e+00 3.000e+00 1.235e+03]\n",
            " [1.351e+01 1.800e+00 2.650e+00 1.900e+01 1.100e+02 2.350e+00 2.530e+00\n",
            "  2.900e-01 1.540e+00 4.200e+00 1.100e+00 2.870e+00 1.095e+03]\n",
            " [1.348e+01 1.810e+00 2.410e+00 2.050e+01 1.000e+02 2.700e+00 2.980e+00\n",
            "  2.600e-01 1.860e+00 5.100e+00 1.040e+00 3.470e+00 9.200e+02]\n",
            " [1.328e+01 1.640e+00 2.840e+00 1.550e+01 1.100e+02 2.600e+00 2.680e+00\n",
            "  3.400e-01 1.360e+00 4.600e+00 1.090e+00 2.780e+00 8.800e+02]\n",
            " [1.305e+01 1.650e+00 2.550e+00 1.800e+01 9.800e+01 2.450e+00 2.430e+00\n",
            "  2.900e-01 1.440e+00 4.250e+00 1.120e+00 2.510e+00 1.105e+03]\n",
            " [1.307e+01 1.500e+00 2.100e+00 1.550e+01 9.800e+01 2.400e+00 2.640e+00\n",
            "  2.800e-01 1.370e+00 3.700e+00 1.180e+00 2.690e+00 1.020e+03]\n",
            " [1.422e+01 3.990e+00 2.510e+00 1.320e+01 1.280e+02 3.000e+00 3.040e+00\n",
            "  2.000e-01 2.080e+00 5.100e+00 8.900e-01 3.530e+00 7.600e+02]\n",
            " [1.356e+01 1.710e+00 2.310e+00 1.620e+01 1.170e+02 3.150e+00 3.290e+00\n",
            "  3.400e-01 2.340e+00 6.130e+00 9.500e-01 3.380e+00 7.950e+02]\n",
            " [1.341e+01 3.840e+00 2.120e+00 1.880e+01 9.000e+01 2.450e+00 2.680e+00\n",
            "  2.700e-01 1.480e+00 4.280e+00 9.100e-01 3.000e+00 1.035e+03]\n",
            " [1.388e+01 1.890e+00 2.590e+00 1.500e+01 1.010e+02 3.250e+00 3.560e+00\n",
            "  1.700e-01 1.700e+00 5.430e+00 8.800e-01 3.560e+00 1.095e+03]\n",
            " [1.324e+01 3.980e+00 2.290e+00 1.750e+01 1.030e+02 2.640e+00 2.630e+00\n",
            "  3.200e-01 1.660e+00 4.360e+00 8.200e-01 3.000e+00 6.800e+02]\n",
            " [1.305e+01 1.770e+00 2.100e+00 1.700e+01 1.070e+02 3.000e+00 3.000e+00\n",
            "  2.800e-01 2.030e+00 5.040e+00 8.800e-01 3.350e+00 8.850e+02]\n",
            " [1.421e+01 4.040e+00 2.440e+00 1.890e+01 1.110e+02 2.850e+00 2.650e+00\n",
            "  3.000e-01 1.250e+00 5.240e+00 8.700e-01 3.330e+00 1.080e+03]\n",
            " [1.438e+01 3.590e+00 2.280e+00 1.600e+01 1.020e+02 3.250e+00 3.170e+00\n",
            "  2.700e-01 2.190e+00 4.900e+00 1.040e+00 3.440e+00 1.065e+03]\n",
            " [1.390e+01 1.680e+00 2.120e+00 1.600e+01 1.010e+02 3.100e+00 3.390e+00\n",
            "  2.100e-01 2.140e+00 6.100e+00 9.100e-01 3.330e+00 9.850e+02]\n",
            " [1.410e+01 2.020e+00 2.400e+00 1.880e+01 1.030e+02 2.750e+00 2.920e+00\n",
            "  3.200e-01 2.380e+00 6.200e+00 1.070e+00 2.750e+00 1.060e+03]\n",
            " [1.394e+01 1.730e+00 2.270e+00 1.740e+01 1.080e+02 2.880e+00 3.540e+00\n",
            "  3.200e-01 2.080e+00 8.900e+00 1.120e+00 3.100e+00 1.260e+03]\n",
            " [1.305e+01 1.730e+00 2.040e+00 1.240e+01 9.200e+01 2.720e+00 3.270e+00\n",
            "  1.700e-01 2.910e+00 7.200e+00 1.120e+00 2.910e+00 1.150e+03]\n",
            " [1.383e+01 1.650e+00 2.600e+00 1.720e+01 9.400e+01 2.450e+00 2.990e+00\n",
            "  2.200e-01 2.290e+00 5.600e+00 1.240e+00 3.370e+00 1.265e+03]\n",
            " [1.382e+01 1.750e+00 2.420e+00 1.400e+01 1.110e+02 3.880e+00 3.740e+00\n",
            "  3.200e-01 1.870e+00 7.050e+00 1.010e+00 3.260e+00 1.190e+03]\n",
            " [1.377e+01 1.900e+00 2.680e+00 1.710e+01 1.150e+02 3.000e+00 2.790e+00\n",
            "  3.900e-01 1.680e+00 6.300e+00 1.130e+00 2.930e+00 1.375e+03]\n",
            " [1.374e+01 1.670e+00 2.250e+00 1.640e+01 1.180e+02 2.600e+00 2.900e+00\n",
            "  2.100e-01 1.620e+00 5.850e+00 9.200e-01 3.200e+00 1.060e+03]\n",
            " [1.356e+01 1.730e+00 2.460e+00 2.050e+01 1.160e+02 2.960e+00 2.780e+00\n",
            "  2.000e-01 2.450e+00 6.250e+00 9.800e-01 3.030e+00 1.120e+03]\n",
            " [1.422e+01 1.700e+00 2.300e+00 1.630e+01 1.180e+02 3.200e+00 3.000e+00\n",
            "  2.600e-01 2.030e+00 6.380e+00 9.400e-01 3.310e+00 9.700e+02]\n",
            " [1.329e+01 1.970e+00 2.680e+00 1.680e+01 1.020e+02 3.000e+00 3.230e+00\n",
            "  3.100e-01 1.660e+00 6.000e+00 1.070e+00 2.840e+00 1.270e+03]\n",
            " [1.372e+01 1.430e+00 2.500e+00 1.670e+01 1.080e+02 3.400e+00 3.670e+00\n",
            "  1.900e-01 2.040e+00 6.800e+00 8.900e-01 2.870e+00 1.285e+03]]\n"
          ],
          "name": "stdout"
        },
        {
          "output_type": "execute_result",
          "data": {
            "text/plain": [
              "(None, 2)"
            ]
          },
          "metadata": {
            "tags": []
          },
          "execution_count": 16
        }
      ]
    },
    {
      "cell_type": "code",
      "metadata": {
        "id": "i4ecFU8tHr4h",
        "colab_type": "code",
        "outputId": "ce39e165-469e-450f-8b12-2c68f4286048",
        "colab": {
          "base_uri": "https://localhost:8080/",
          "height": 126
        }
      },
      "source": [
        "print(cla0[:,0]), type(cla0[:,0]), cla0[:,0].ndim"
      ],
      "execution_count": 17,
      "outputs": [
        {
          "output_type": "stream",
          "text": [
            "[14.23 13.2  13.16 14.37 13.24 14.2  14.39 14.06 14.83 13.86 14.1  14.12\n",
            " 13.75 14.75 14.38 13.63 14.3  13.83 14.19 13.64 14.06 12.93 13.71 12.85\n",
            " 13.5  13.05 13.39 13.3  13.87 14.02 13.73 13.58 13.68 13.76 13.51 13.48\n",
            " 13.28 13.05 13.07 14.22 13.56 13.41 13.88 13.24 13.05 14.21 14.38 13.9\n",
            " 14.1  13.94 13.05 13.83 13.82 13.77 13.74 13.56 14.22 13.29 13.72]\n"
          ],
          "name": "stdout"
        },
        {
          "output_type": "execute_result",
          "data": {
            "text/plain": [
              "(None, numpy.ndarray, 1)"
            ]
          },
          "metadata": {
            "tags": []
          },
          "execution_count": 17
        }
      ]
    },
    {
      "cell_type": "code",
      "metadata": {
        "id": "23_dPBWQH89i",
        "colab_type": "code",
        "outputId": "4b93c92a-d19f-4961-de5e-0407e1fa2e84",
        "colab": {
          "base_uri": "https://localhost:8080/",
          "height": 35
        }
      },
      "source": [
        "np.mean(cla0[:,0])"
      ],
      "execution_count": 18,
      "outputs": [
        {
          "output_type": "execute_result",
          "data": {
            "text/plain": [
              "13.744745762711865"
            ]
          },
          "metadata": {
            "tags": []
          },
          "execution_count": 18
        }
      ]
    },
    {
      "cell_type": "code",
      "metadata": {
        "id": "SNxxUmUEEOZd",
        "colab_type": "code",
        "colab": {
          "base_uri": "https://localhost:8080/",
          "height": 1000
        },
        "outputId": "8d9d9081-9a1f-4d3c-a8eb-860792fee48d"
      },
      "source": [
        "#첫 속성 alchol의 대표값\n",
        "#cla0 = class1으로 분류된 data\n",
        "#att = wines['feature_names'] \n",
        "k=0\n",
        "for i in att:\n",
        "  print(i)\n",
        "  mean=round(np.mean(cla0[:,k]))\n",
        "  median=round(np.median(cla0[:,k]))\n",
        "  std=round(np.std(cla0[:,k]))\n",
        "  var=round(np.var(cla0[:,k]))\n",
        "\n",
        "  k=k+1\n",
        "  print('평균:',mean)\n",
        "  print('중간값:',median)\n",
        "  print('표준편차:',std)\n",
        "  print('분산:',var)\n",
        " "
      ],
      "execution_count": 19,
      "outputs": [
        {
          "output_type": "stream",
          "text": [
            "alcohol\n",
            "평균: 14.0\n",
            "중간값: 14.0\n",
            "표준편차: 0.0\n",
            "분산: 0.0\n",
            "malic_acid\n",
            "평균: 2.0\n",
            "중간값: 2.0\n",
            "표준편차: 1.0\n",
            "분산: 0.0\n",
            "ash\n",
            "평균: 2.0\n",
            "중간값: 2.0\n",
            "표준편차: 0.0\n",
            "분산: 0.0\n",
            "alcalinity_of_ash\n",
            "평균: 17.0\n",
            "중간값: 17.0\n",
            "표준편차: 3.0\n",
            "분산: 6.0\n",
            "magnesium\n",
            "평균: 106.0\n",
            "중간값: 104.0\n",
            "표준편차: 10.0\n",
            "분산: 108.0\n",
            "total_phenols\n",
            "평균: 3.0\n",
            "중간값: 3.0\n",
            "표준편차: 0.0\n",
            "분산: 0.0\n",
            "flavanoids\n",
            "평균: 3.0\n",
            "중간값: 3.0\n",
            "표준편차: 0.0\n",
            "분산: 0.0\n",
            "nonflavanoid_phenols\n",
            "평균: 0.0\n",
            "중간값: 0.0\n",
            "표준편차: 0.0\n",
            "분산: 0.0\n",
            "proanthocyanins\n",
            "평균: 2.0\n",
            "중간값: 2.0\n",
            "표준편차: 0.0\n",
            "분산: 0.0\n",
            "color_intensity\n",
            "평균: 6.0\n",
            "중간값: 5.0\n",
            "표준편차: 1.0\n",
            "분산: 2.0\n",
            "hue\n",
            "평균: 1.0\n",
            "중간값: 1.0\n",
            "표준편차: 0.0\n",
            "분산: 0.0\n",
            "od280/od315_of_diluted_wines\n",
            "평균: 3.0\n",
            "중간값: 3.0\n",
            "표준편차: 0.0\n",
            "분산: 0.0\n",
            "proline\n",
            "평균: 1116.0\n",
            "중간값: 1095.0\n",
            "표준편차: 220.0\n",
            "분산: 48240.0\n"
          ],
          "name": "stdout"
        }
      ]
    },
    {
      "cell_type": "code",
      "metadata": {
        "id": "FC3bUs0Ghd83",
        "colab_type": "code",
        "colab": {}
      },
      "source": [
        "#nonflavanoid_phenols error?\n",
        "print(data[:,7])"
      ],
      "execution_count": 0,
      "outputs": []
    },
    {
      "cell_type": "code",
      "metadata": {
        "id": "dKhMTlO0fH-c",
        "colab_type": "code",
        "colab": {}
      },
      "source": [
        "#proline\n",
        "print(cla0[:,12])"
      ],
      "execution_count": 0,
      "outputs": []
    },
    {
      "cell_type": "code",
      "metadata": {
        "id": "6rJmpliGgOCL",
        "colab_type": "code",
        "colab": {}
      },
      "source": [
        ""
      ],
      "execution_count": 0,
      "outputs": []
    }
  ]
}